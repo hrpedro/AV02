{
 "cells": [
  {
   "cell_type": "markdown",
   "id": "d2413096",
   "metadata": {},
   "source": [
    "![alt text](Enunciado.png)"
   ]
  },
  {
   "cell_type": "code",
   "execution_count": null,
   "id": "a26b4c35",
   "metadata": {},
   "outputs": [],
   "source": [
    "#ITEM A\n",
    "\n",
    "import numpy as np\n",
    "\n",
    "h0 = input(\"Insira a altura inicial do objeto (em metros): \")\n",
    "h0 = float(h0)\n",
    "\n",
    "t1 = input(\"Insira o instante de tempo desejado (em segundos): \")\n",
    "t1 = float(t1)\n",
    "\n",
    "g = 9.8 # aceleração da gravidade em m/s²\n",
    "t_queda = (2 * h0 / g) ** 0.5\n",
    "t_queda = round(t_queda, 2)\n",
    "\n",
    "    \n",
    "while t1 < 0:\n",
    "    print(\"O instante de tempo não pode ser negativo.\")\n",
    "    t1 = input(\"Insira um instante de tempo válido (em segundos): \")\n",
    "    t1 = float(t1)\n",
    "h = h0 - 0.5 * g * t1 ** 2\n",
    "h = round(h, 2)\n",
    "if h < 0:\n",
    "    h = 0\n",
    "print(\"A altura do objeto no instante de tempo\", t1, \"segundos é:\", h, \"metros\")"
   ]
  },
  {
   "cell_type": "markdown",
   "id": "10a6c874",
   "metadata": {},
   "source": [
    "![alt text](Fluxograma_Item_A.png)"
   ]
  },
  {
   "cell_type": "code",
   "execution_count": null,
   "id": "7074f93c",
   "metadata": {},
   "outputs": [
    {
     "name": "stdout",
     "output_type": "stream",
     "text": [
      "17.5\n",
      "[1500.  1495.1 1480.4 1455.9 1421.6 1377.5 1323.6 1259.9 1186.4 1103.1\n",
      " 1010.   907.1  794.4  671.9  539.6  397.5  245.6   83.9    0. ]\n",
      "[ 0.  1.  2.  3.  4.  5.  6.  7.  8.  9. 10. 11. 12. 13. 14. 15. 16. 17.\n",
      " 18.]\n"
     ]
    }
   ],
   "source": [
    "# ITEM B\n",
    "\n",
    "import numpy as np\n",
    "import matplotlib.pyplot as plt\n",
    "import math\n",
    "\n",
    "h0 = input(\"Insira a altura inicial do objeto (em metros): \")\n",
    "h0 = float(h0)\n",
    "\n",
    "g = 9.8 # aceleração da gravidade em m/s²\n",
    "t_queda = (2 * h0 / g) ** 0.5\n",
    "t_queda = round(t_queda, 2)\n",
    "print(t_queda)\n",
    "\n",
    "t_arred = math.ceil(t_queda)\n",
    "n = t_arred + 1\n",
    "\n",
    "t = np.zeros(n)\n",
    "h = np.zeros(n)\n",
    "\n",
    "i = 0\n",
    "\n",
    "while i < n:\n",
    "    t[i] = i\n",
    "    h[i] = h0 - 0.5 * g * t[i] ** 2\n",
    "    if h[i] < 0:\n",
    "        h[i] = 0\n",
    "    i = i+1\n",
    "\n"
   ]
  }
 ],
 "metadata": {
  "kernelspec": {
   "display_name": "base",
   "language": "python",
   "name": "python3"
  },
  "language_info": {
   "codemirror_mode": {
    "name": "ipython",
    "version": 3
   },
   "file_extension": ".py",
   "mimetype": "text/x-python",
   "name": "python",
   "nbconvert_exporter": "python",
   "pygments_lexer": "ipython3",
   "version": "3.12.7"
  }
 },
 "nbformat": 4,
 "nbformat_minor": 5
}
